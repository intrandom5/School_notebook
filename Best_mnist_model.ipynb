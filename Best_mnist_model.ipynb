{
  "nbformat": 4,
  "nbformat_minor": 0,
  "metadata": {
    "colab": {
      "provenance": [],
      "authorship_tag": "ABX9TyP27w/EDMJhkdgGH5d+HUQR",
      "include_colab_link": true
    },
    "kernelspec": {
      "name": "python3",
      "display_name": "Python 3"
    },
    "language_info": {
      "name": "python"
    }
  },
  "cells": [
    {
      "cell_type": "markdown",
      "metadata": {
        "id": "view-in-github",
        "colab_type": "text"
      },
      "source": [
        "<a href=\"https://colab.research.google.com/github/intrandom5/School_notebook/blob/main/Best_mnist_model.ipynb\" target=\"_parent\"><img src=\"https://colab.research.google.com/assets/colab-badge.svg\" alt=\"Open In Colab\"/></a>"
      ]
    },
    {
      "cell_type": "markdown",
      "source": [
        "MNIST 데이터셋은 0부터 9까지의 숫자 이미지를 보고 알맞는 숫자로 분류하는 작업이에요.\n",
        "\n",
        "MNIST는 총 60,000개의 훈련 이미지와 10,000개의 테스트 이미지로 구성되어 있으며, 28x28 크기의 흑백 이미지로 구성되어 있어요.\n",
        "\n",
        "아래 코드로 간편하게 다운 받을 수 있답니다."
      ],
      "metadata": {
        "id": "hL054LDKUK7o"
      }
    },
    {
      "cell_type": "code",
      "execution_count": null,
      "metadata": {
        "id": "DmPMu3RHLJlb"
      },
      "outputs": [],
      "source": [
        "import torchvision.datasets as datasets\n",
        "\n",
        "\n",
        "mnist_train = datasets.MNIST(root='MNIST_data/',\n",
        "                          train=True,\n",
        "                          download=True)\n",
        "\n",
        "mnist_test = datasets.MNIST(root='MNIST_data/',\n",
        "                         train=False,\n",
        "                         download=True)"
      ]
    },
    {
      "cell_type": "markdown",
      "source": [
        "다운 받은 이미지는 아래와 같이 확인할 수 있습니다."
      ],
      "metadata": {
        "id": "59g1FLUCUe5r"
      }
    },
    {
      "cell_type": "code",
      "source": [
        "import matplotlib.pyplot as plt\n",
        "\n",
        "# idx의 값(0~59999)을 바꿔가면서 다른 이미지들도 확인해 보세요.\n",
        "idx = 15\n",
        "\n",
        "plt.figure(figsize=(2, 2))\n",
        "plt.imshow(mnist_train.data[idx].unsqueeze(-1))\n",
        "plt.title(f\"label : {mnist_train.targets[idx]}\")"
      ],
      "metadata": {
        "colab": {
          "base_uri": "https://localhost:8080/",
          "height": 255
        },
        "id": "RIU0DWPaLyhp",
        "outputId": "8995190e-81e2-4f28-b3de-e89a5031ea82"
      },
      "execution_count": null,
      "outputs": [
        {
          "output_type": "execute_result",
          "data": {
            "text/plain": [
              "Text(0.5, 1.0, 'label : 7')"
            ]
          },
          "metadata": {},
          "execution_count": 8
        },
        {
          "output_type": "display_data",
          "data": {
            "text/plain": [
              "<Figure size 200x200 with 1 Axes>"
            ],
            "image/png": "[encoded data removed]"
          },
          "metadata": {}
        }
      ]
    },
    {
      "cell_type": "markdown",
      "source": [
        "이를 모델이 학습할 수 있도록 간단한 전처리를 해줄거에요."
      ],
      "metadata": {
        "id": "GV3lBai-UhZH"
      }
    },
    {
      "cell_type": "code",
      "source": [
        "import torch\n",
        "import torch.nn as nn\n",
        "from torch.utils.data import Dataset, DataLoader\n",
        "\n",
        "\n",
        "class mnist_dataset(Dataset):\n",
        "    def __init__(self, data):\n",
        "        super(mnist_dataset, self).__init__()\n",
        "        self.images = data.data[:5000]\n",
        "        self.labels = data.targets[:5000]\n",
        "\n",
        "    def __len__(self):\n",
        "        return len(self.images)\n",
        "\n",
        "    def __getitem__(self, idx):\n",
        "        return {\n",
        "            \"images\": self.images[idx].view(-1)/255,\n",
        "            \"labels\": self.labels[idx]\n",
        "        }\n",
        "\n",
        "train_dataset = mnist_dataset(mnist_train)\n",
        "test_dataset = mnist_dataset(mnist_test)\n",
        "\n",
        "train_loader = DataLoader(train_dataset, batch_size=32, shuffle=True)\n",
        "test_loader = DataLoader(test_dataset, batch_size=32)"
      ],
      "metadata": {
        "id": "ikjlHYJVMG7T"
      },
      "execution_count": null,
      "outputs": []
    },
    {
      "cell_type": "markdown",
      "source": [
        "이제 데이터를 학습할 모델을 설계하겠습니다."
      ],
      "metadata": {
        "id": "CdMk-5xRUlQP"
      }
    },
    {
      "cell_type": "code",
      "source": [
        "from torch.optim import Adam\n",
        "\n",
        "\n",
        "device = 'cuda' if torch.cuda.is_available() else 'cpu'\n",
        "\n",
        "model = nn.Sequential(\n",
        "    nn.Linear(28*28, 512),\n",
        "    nn.Linear(512, 128),\n",
        "    nn.Linear(128, 64),\n",
        "    nn.Linear(64, 10)\n",
        ")\n",
        "\n",
        "model.to(device)\n",
        "\n",
        "criterion = nn.CrossEntropyLoss()\n",
        "optimizer = Adam(model.parameters(), lr=0.00001)"
      ],
      "metadata": {
        "id": "S-4tEEojNszH"
      },
      "execution_count": null,
      "outputs": []
    },
    {
      "cell_type": "markdown",
      "source": [
        "준비된 데이터와 모델을 이용해 학습을 진행해 보겠습니다!"
      ],
      "metadata": {
        "id": "qkMc2HVbUrct"
      }
    },
    {
      "cell_type": "code",
      "source": [
        "from tqdm import tqdm\n",
        "from sklearn.metrics import accuracy_score\n",
        "\n",
        "\n",
        "def train(model, optimizer, train_loader, epochs):\n",
        "    train_losses = []\n",
        "\n",
        "    for epoch in range(epochs):\n",
        "        print(\"epoch :\", epoch)\n",
        "        model.train()\n",
        "        train_loss = []\n",
        "        for step, data in enumerate(tqdm(train_loader)):\n",
        "            data = {k: v.to(device) for k, v in data.items()}\n",
        "\n",
        "            images = data[\"images\"].float()\n",
        "            output = model(images)\n",
        "            loss = criterion(output, data[\"labels\"])\n",
        "            train_loss.append(loss.detach().cpu().item())\n",
        "\n",
        "            optimizer.zero_grad()\n",
        "            loss.backward()\n",
        "            optimizer.step()\n",
        "\n",
        "        step_loss = sum(train_loss)/len(train_loss)\n",
        "        train_losses.append(step_loss)\n",
        "        train_loss = []\n",
        "\n",
        "    plt.plot(train_losses)\n",
        "    plt.title(\"train loss graph\")\n",
        "\n",
        "def evaluate(model, test_loader):\n",
        "    preds = []\n",
        "    for step, data in enumerate(tqdm(test_loader)):\n",
        "        data = {k: v.to(device) for k, v in data.items()}\n",
        "\n",
        "        images = data[\"images\"].float()\n",
        "        with torch.no_grad():\n",
        "            output = model(images).cpu()\n",
        "        pred = torch.argmax(output, dim=-1)\n",
        "        preds.append(pred)\n",
        "    preds = torch.cat(preds)\n",
        "    acc = accuracy_score(test_dataset.labels, preds)\n",
        "    del preds\n",
        "\n",
        "    return acc\n",
        "\n",
        "train_losses = train(model, optimizer, train_loader, epochs=3)\n",
        "test_score = evaluate(model, test_loader)\n",
        "print(f\"정확도 : {test_score*100}%\")"
      ],
      "metadata": {
        "colab": {
          "base_uri": "https://localhost:8080/",
          "height": 599
        },
        "id": "aWPyDsYlMtzU",
        "outputId": "64fae0b0-7068-4f67-84c5-0802b84e369c"
      },
      "execution_count": null,
      "outputs": [
        {
          "output_type": "stream",
          "name": "stdout",
          "text": [
            "epoch : 0\n"
          ]
        },
        {
          "output_type": "stream",
          "name": "stderr",
          "text": [
            "100%|██████████| 157/157 [00:01<00:00, 112.79it/s]\n"
          ]
        },
        {
          "output_type": "stream",
          "name": "stdout",
          "text": [
            "epoch : 1\n"
          ]
        },
        {
          "output_type": "stream",
          "name": "stderr",
          "text": [
            "100%|██████████| 157/157 [00:01<00:00, 119.57it/s]\n"
          ]
        },
        {
          "output_type": "stream",
          "name": "stdout",
          "text": [
            "epoch : 2\n"
          ]
        },
        {
          "output_type": "stream",
          "name": "stderr",
          "text": [
            "100%|██████████| 157/157 [00:01<00:00, 93.33it/s]\n",
            "100%|██████████| 157/157 [00:00<00:00, 274.46it/s]\n"
          ]
        },
        {
          "output_type": "stream",
          "name": "stdout",
          "text": [
            "정확도 : 61.4%\n"
          ]
        },
        {
          "output_type": "display_data",
          "data": {
            "text/plain": [
              "<Figure size 640x480 with 1 Axes>"
            ],
            "image/png": "[encoded data removed]"
          },
          "metadata": {}
        }
      ]
    },
    {
      "cell_type": "markdown",
      "source": [
        "몇 퍼센트의 정확도가 나왔나요?\n",
        "\n",
        "이제 여러분이 직접 모델과 설정값들을 조절해서 더 좋은 모델을 만들어 볼게요.\n",
        "\n",
        "모델은 아래와 같이 nn.Linear()의 숫자를 조절할 수 있습니다. 혹은 () 안의 숫자를 여러분이 바꾸고 싶은대로 바꿔도 돼요.\n",
        "\n",
        "단, 맨 첫번째 nn.Linear(28\\*28, x)에서 앞의 28*28은 고정값입니다. (이미지의 크기를 나타냅니다.)\n",
        "\n",
        "그리고 맨 마지막 nn.Linear(x, 10)에서 뒤의 10도 고정값입니다. (0부터 9까지의 숫자를 나타냅니다.)\n",
        "\n",
        "```\n",
        "model = nn.Sequential(\n",
        "    nn.Linear(28*28, 512),\n",
        "    nn.Linear(512, 10)\n",
        ")\n",
        "\n",
        "model = nn.Sequential(\n",
        "    nn.Linear(28*28, 1024),\n",
        "    nn.Linear(1024, 64),\n",
        "    nn.Linear(64, 10)\n",
        ")\n",
        "```\n",
        "\n",
        "그 외엔 학습률(lr)과 학습 반복 수(epochs), 배치 크기(batch_size)도 조절이 가능합니다!\n",
        "\n",
        "학습률(lr)은 클수록 모델이 데이터에 크게 반응하고 작을수록 작게 반응해요.\n",
        "\n",
        "epochs는 많을 수록 모델이 데이터를 많이 학습하게 됩니다.\n",
        "\n",
        "batch_size는 모델이 몇 개의 데이터를 보고 학습할 지를 결정해요."
      ],
      "metadata": {
        "id": "0kqzaUnuU5jr"
      }
    },
    {
      "cell_type": "code",
      "source": [
        "del model\n",
        "\n",
        "# 이제 여러분이 설정값을 조절해 더 좋은 모델을 만들어 보세요!\n",
        "\n",
        "# 레이어의 수를 늘리거나 숫자를 조절할 수 있습니다!\n",
        "model = nn.Sequential(\n",
        "    nn.Linear(28*28, 512),\n",
        "    nn.Linear(512, 128),\n",
        "    nn.Linear(128, 64),\n",
        "    nn.Linear(64, 10)\n",
        ")\n",
        "\n",
        "# 학습률이에요. 클수록 모델이 크게 변하고, 작을수록 모델의 변화가 작아요.\n",
        "lr = 0.00001\n",
        "\n",
        "# epochs는 학습을 몇 번 반복할지를 결정해요.\n",
        "epochs = 3\n",
        "\n",
        "# batch_size는 모델이 데이터를 몇 개 보고 학습을 할 지를 결정해요. (< 5000)\n",
        "batch_size=64\n",
        "\n",
        "# 설정이 끝났으면 셀 실행!\n",
        "\n",
        "# 아래 코드는 건들지 마세요.\n",
        "model.to(device)\n",
        "optimizer = Adam(model.parameters(), lr=lr)\n",
        "train_loader = DataLoader(train_dataset, batch_size=batch_size, shuffle=True)\n",
        "train_losses = train(model, optimizer, train_loader, epochs)\n",
        "test_score = evaluate(model, test_loader)\n",
        "print(\"정확도 : \", test_score*100)"
      ],
      "metadata": {
        "colab": {
          "base_uri": "https://localhost:8080/",
          "height": 599
        },
        "id": "NWMU-VV9QdBV",
        "outputId": "5b146d75-cc42-469c-d5ee-553e8c35e285"
      },
      "execution_count": null,
      "outputs": [
        {
          "output_type": "stream",
          "name": "stdout",
          "text": [
            "epoch : 0\n"
          ]
        },
        {
          "output_type": "stream",
          "name": "stderr",
          "text": [
            "100%|██████████| 79/79 [00:01<00:00, 61.18it/s]\n"
          ]
        },
        {
          "output_type": "stream",
          "name": "stdout",
          "text": [
            "epoch : 1\n"
          ]
        },
        {
          "output_type": "stream",
          "name": "stderr",
          "text": [
            "100%|██████████| 79/79 [00:01<00:00, 62.91it/s]\n"
          ]
        },
        {
          "output_type": "stream",
          "name": "stdout",
          "text": [
            "epoch : 2\n"
          ]
        },
        {
          "output_type": "stream",
          "name": "stderr",
          "text": [
            "100%|██████████| 79/79 [00:00<00:00, 95.25it/s]\n",
            "100%|██████████| 157/157 [00:00<00:00, 477.08it/s]\n"
          ]
        },
        {
          "output_type": "stream",
          "name": "stdout",
          "text": [
            "정확도 :  77.98\n"
          ]
        },
        {
          "output_type": "display_data",
          "data": {
            "text/plain": [
              "<Figure size 640x480 with 1 Axes>"
            ],
            "image/png": "[encoded data removed]"
          },
          "metadata": {}
        }
      ]
    }
  ]
}